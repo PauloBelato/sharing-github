{
 "cells": [
  {
   "cell_type": "code",
   "execution_count": 6,
   "id": "22eeac14-c69d-4252-99d1-d7b9aab4aeac",
   "metadata": {},
   "outputs": [],
   "source": [
    "import read_fasta_v3 as rf"
   ]
  },
  {
   "cell_type": "code",
   "execution_count": null,
   "id": "8d0e21ab-8f1c-4f8e-aa4a-861a14aac8e5",
   "metadata": {},
   "outputs": [],
   "source": []
  }
 ],
 "metadata": {
  "kernelspec": {
   "display_name": "Python 3 (ipykernel)",
   "language": "python",
   "name": "python3"
  },
  "language_info": {
   "codemirror_mode": {
    "name": "ipython",
    "version": 3
   },
   "file_extension": ".py",
   "mimetype": "text/x-python",
   "name": "python",
   "nbconvert_exporter": "python",
   "pygments_lexer": "ipython3",
   "version": "3.10.6"
  }
 },
 "nbformat": 4,
 "nbformat_minor": 5
}
